{
  "nbformat": 4,
  "nbformat_minor": 0,
  "metadata": {
    "colab": {
      "provenance": [],
      "cell_execution_strategy": "setup",
      "authorship_tag": "ABX9TyM4JRNuV72NVVfqOtEqLOM/",
      "include_colab_link": true
    },
    "kernelspec": {
      "name": "python3",
      "display_name": "Python 3"
    },
    "language_info": {
      "name": "python"
    }
  },
  "cells": [
    {
      "cell_type": "markdown",
      "metadata": {
        "id": "view-in-github",
        "colab_type": "text"
      },
      "source": [
        "<a href=\"https://colab.research.google.com/github/dashsumit/Automated_Text_Summerization-/blob/main/Automated__Extractive_English_Text_Summerizatio_.ipynb\" target=\"_parent\"><img src=\"https://colab.research.google.com/assets/colab-badge.svg\" alt=\"Open In Colab\"/></a>"
      ]
    },
    {
      "cell_type": "markdown",
      "source": [
        "# Extractive Text Summerization"
      ],
      "metadata": {
        "id": "reVyxSvBoFRS"
      }
    },
    {
      "cell_type": "code",
      "execution_count": 1,
      "metadata": {
        "id": "VbYbbInQm3Zo"
      },
      "outputs": [],
      "source": [
        "# # for extractive summerization  we will use sentence importance to generate the extractive summary of the input text\n",
        "# 1. we will tokenize the text and identify the ocuurence of important words\n",
        "#    then we will calculate the importance of each word .\n",
        "\n",
        "# 2. next we will assign weights two sentences  based on on the sum of the important  score of there words .\n",
        "\n",
        "# 3. finally we will rank the sentences and select top and sentences from the text body  to form the summary"
      ]
    },
    {
      "cell_type": "code",
      "source": [
        "import spacy\n",
        "from spacy.lang.en.stop_words import STOP_WORDS\n",
        "from string import punctuation\n",
        "from collections import Counter\n",
        "import pandas as pd\n",
        "from heapq import nlargest"
      ],
      "metadata": {
        "id": "M0lP4J6o6Twt"
      },
      "execution_count": 2,
      "outputs": []
    },
    {
      "cell_type": "code",
      "source": [
        "text = '''\n",
        "Artificial Intelligence (AI) and Machine Learning (ML) are transforming the way we interact with technology. AI refers to the broad field of creating systems that can perform tasks requiring human-like intelligence, such as reasoning, problem-solving, and perception. ML, a subset of AI, focuses on enabling machines to learn from data without explicit programming. By training algorithms on vast datasets, ML models can identify patterns, make predictions, and improve over time. From powering virtual assistants like Siri to driving advancements in healthcare diagnostics, AI and ML are revolutionizing industries. Transformers, a type of ML architecture, have further accelerated progress, particularly in natural language processing and image recognition, showcasing the potential of these technologies to shape the future.\n",
        "'''"
      ],
      "metadata": {
        "id": "xd4Mpqa8pJaA"
      },
      "execution_count": 3,
      "outputs": []
    },
    {
      "cell_type": "code",
      "source": [
        "len(text)"
      ],
      "metadata": {
        "colab": {
          "base_uri": "https://localhost:8080/"
        },
        "id": "d6Pp4DHvq7ue",
        "outputId": "c4709eff-1efe-4d02-bb49-031c40d7040e"
      },
      "execution_count": 4,
      "outputs": [
        {
          "output_type": "execute_result",
          "data": {
            "text/plain": [
              "829"
            ]
          },
          "metadata": {},
          "execution_count": 4
        }
      ]
    },
    {
      "cell_type": "markdown",
      "source": [
        "Small Size englis model from spacy"
      ],
      "metadata": {
        "id": "ZBc0O2rNrYBE"
      }
    },
    {
      "cell_type": "code",
      "source": [
        "nlp=spacy.load('en_core_web_sm')\n",
        "nlp"
      ],
      "metadata": {
        "colab": {
          "base_uri": "https://localhost:8080/"
        },
        "collapsed": true,
        "id": "iAmXjoferW0N",
        "outputId": "04e85970-34d8-40fa-8b0a-3dd52f660163"
      },
      "execution_count": 5,
      "outputs": [
        {
          "output_type": "execute_result",
          "data": {
            "text/plain": [
              "<spacy.lang.en.English at 0x7e0c85c13790>"
            ]
          },
          "metadata": {},
          "execution_count": 5
        }
      ]
    },
    {
      "cell_type": "markdown",
      "source": [
        "applying the loaded pretrain model"
      ],
      "metadata": {
        "id": "sQxqcwuPruzQ"
      }
    },
    {
      "cell_type": "code",
      "source": [
        "doc = nlp(text)\n",
        "doc"
      ],
      "metadata": {
        "colab": {
          "base_uri": "https://localhost:8080/"
        },
        "collapsed": true,
        "id": "wnmnO5JJroH8",
        "outputId": "0a27af5e-1316-47a2-ed76-06da747f3c92"
      },
      "execution_count": 6,
      "outputs": [
        {
          "output_type": "execute_result",
          "data": {
            "text/plain": [
              "\n",
              "Artificial Intelligence (AI) and Machine Learning (ML) are transforming the way we interact with technology. AI refers to the broad field of creating systems that can perform tasks requiring human-like intelligence, such as reasoning, problem-solving, and perception. ML, a subset of AI, focuses on enabling machines to learn from data without explicit programming. By training algorithms on vast datasets, ML models can identify patterns, make predictions, and improve over time. From powering virtual assistants like Siri to driving advancements in healthcare diagnostics, AI and ML are revolutionizing industries. Transformers, a type of ML architecture, have further accelerated progress, particularly in natural language processing and image recognition, showcasing the potential of these technologies to shape the future."
            ]
          },
          "metadata": {},
          "execution_count": 6
        }
      ]
    },
    {
      "cell_type": "markdown",
      "source": [
        "Code For tokenizations and removing stopwords from our text\n",
        "\n"
      ],
      "metadata": {
        "id": "8qJJG5rZr9NO"
      }
    },
    {
      "cell_type": "code",
      "source": [
        "# using list comprehension\n",
        "\n",
        "tokens= [token.text.lower() for token in doc\n",
        "         if not token.is_stop and\n",
        "         not token.is_punct and\n",
        "         token.text != '\\n']"
      ],
      "metadata": {
        "id": "1bfIUpx0r8jq"
      },
      "execution_count": 7,
      "outputs": []
    },
    {
      "cell_type": "code",
      "source": [
        "tokens"
      ],
      "metadata": {
        "colab": {
          "base_uri": "https://localhost:8080/"
        },
        "collapsed": true,
        "id": "4T3yu6eLsk4B",
        "outputId": "81cb968d-b35c-46fa-8e04-f293f6b4b5e8"
      },
      "execution_count": 8,
      "outputs": [
        {
          "output_type": "execute_result",
          "data": {
            "text/plain": [
              "['artificial',\n",
              " 'intelligence',\n",
              " 'ai',\n",
              " 'machine',\n",
              " 'learning',\n",
              " 'ml',\n",
              " 'transforming',\n",
              " 'way',\n",
              " 'interact',\n",
              " 'technology',\n",
              " 'ai',\n",
              " 'refers',\n",
              " 'broad',\n",
              " 'field',\n",
              " 'creating',\n",
              " 'systems',\n",
              " 'perform',\n",
              " 'tasks',\n",
              " 'requiring',\n",
              " 'human',\n",
              " 'like',\n",
              " 'intelligence',\n",
              " 'reasoning',\n",
              " 'problem',\n",
              " 'solving',\n",
              " 'perception',\n",
              " 'ml',\n",
              " 'subset',\n",
              " 'ai',\n",
              " 'focuses',\n",
              " 'enabling',\n",
              " 'machines',\n",
              " 'learn',\n",
              " 'data',\n",
              " 'explicit',\n",
              " 'programming',\n",
              " 'training',\n",
              " 'algorithms',\n",
              " 'vast',\n",
              " 'datasets',\n",
              " 'ml',\n",
              " 'models',\n",
              " 'identify',\n",
              " 'patterns',\n",
              " 'predictions',\n",
              " 'improve',\n",
              " 'time',\n",
              " 'powering',\n",
              " 'virtual',\n",
              " 'assistants',\n",
              " 'like',\n",
              " 'siri',\n",
              " 'driving',\n",
              " 'advancements',\n",
              " 'healthcare',\n",
              " 'diagnostics',\n",
              " 'ai',\n",
              " 'ml',\n",
              " 'revolutionizing',\n",
              " 'industries',\n",
              " 'transformers',\n",
              " 'type',\n",
              " 'ml',\n",
              " 'architecture',\n",
              " 'accelerated',\n",
              " 'progress',\n",
              " 'particularly',\n",
              " 'natural',\n",
              " 'language',\n",
              " 'processing',\n",
              " 'image',\n",
              " 'recognition',\n",
              " 'showcasing',\n",
              " 'potential',\n",
              " 'technologies',\n",
              " 'shape',\n",
              " 'future']"
            ]
          },
          "metadata": {},
          "execution_count": 8
        }
      ]
    },
    {
      "cell_type": "markdown",
      "source": [
        "Alternative approch tokenizations and removing stopwords from our text using pos taging"
      ],
      "metadata": {
        "id": "UPWvNcxV1VLk"
      }
    },
    {
      "cell_type": "code",
      "source": [
        "tokens1=[]\n",
        "stopwords = list(STOP_WORDS)\n",
        "allowed_pos = ['ADJ','PROPN','VERB','NOUN']\n",
        "for token in doc :\n",
        "  if token.text in stopwords or token.text in punctuation:\n",
        "    continue\n",
        "  if token.pos_ in allowed_pos:\n",
        "    tokens1.append(token.text)"
      ],
      "metadata": {
        "id": "yjtNO8ks1UNC"
      },
      "execution_count": 9,
      "outputs": []
    },
    {
      "cell_type": "code",
      "source": [
        "tokens1"
      ],
      "metadata": {
        "colab": {
          "base_uri": "https://localhost:8080/"
        },
        "collapsed": true,
        "id": "YLuLvR663br4",
        "outputId": "99979582-e10d-4dee-be0b-421be04e5c3b"
      },
      "execution_count": 10,
      "outputs": [
        {
          "output_type": "execute_result",
          "data": {
            "text/plain": [
              "['Artificial',\n",
              " 'Intelligence',\n",
              " 'AI',\n",
              " 'Machine',\n",
              " 'Learning',\n",
              " 'ML',\n",
              " 'transforming',\n",
              " 'way',\n",
              " 'interact',\n",
              " 'technology',\n",
              " 'AI',\n",
              " 'refers',\n",
              " 'broad',\n",
              " 'field',\n",
              " 'creating',\n",
              " 'systems',\n",
              " 'perform',\n",
              " 'tasks',\n",
              " 'requiring',\n",
              " 'human',\n",
              " 'like',\n",
              " 'intelligence',\n",
              " 'reasoning',\n",
              " 'problem',\n",
              " 'solving',\n",
              " 'perception',\n",
              " 'ML',\n",
              " 'subset',\n",
              " 'AI',\n",
              " 'focuses',\n",
              " 'enabling',\n",
              " 'machines',\n",
              " 'learn',\n",
              " 'data',\n",
              " 'explicit',\n",
              " 'programming',\n",
              " 'training',\n",
              " 'algorithms',\n",
              " 'vast',\n",
              " 'datasets',\n",
              " 'ML',\n",
              " 'models',\n",
              " 'identify',\n",
              " 'patterns',\n",
              " 'predictions',\n",
              " 'improve',\n",
              " 'time',\n",
              " 'powering',\n",
              " 'virtual',\n",
              " 'assistants',\n",
              " 'Siri',\n",
              " 'driving',\n",
              " 'advancements',\n",
              " 'healthcare',\n",
              " 'diagnostics',\n",
              " 'AI',\n",
              " 'ML',\n",
              " 'revolutionizing',\n",
              " 'industries',\n",
              " 'Transformers',\n",
              " 'type',\n",
              " 'ML',\n",
              " 'architecture',\n",
              " 'accelerated',\n",
              " 'progress',\n",
              " 'natural',\n",
              " 'language',\n",
              " 'processing',\n",
              " 'image',\n",
              " 'recognition',\n",
              " 'showcasing',\n",
              " 'potential',\n",
              " 'technologies',\n",
              " 'shape',\n",
              " 'future']"
            ]
          },
          "metadata": {},
          "execution_count": 10
        }
      ]
    },
    {
      "cell_type": "markdown",
      "source": [
        "Frequency of the sentences"
      ],
      "metadata": {
        "id": "Sdqp_UXx5NHB"
      }
    },
    {
      "cell_type": "code",
      "source": [
        "# for extractive we have to find the sentences that have most  important word in them by focusing on sentences with the keywords appearing most often .ImportWarning\n",
        "\n",
        "# we create the summary that capture the main idea of the summary ."
      ],
      "metadata": {
        "id": "VHaB4A5y5HB6"
      },
      "execution_count": 11,
      "outputs": []
    },
    {
      "cell_type": "code",
      "source": [
        "word_freq=Counter(tokens)\n",
        "word_freq"
      ],
      "metadata": {
        "colab": {
          "base_uri": "https://localhost:8080/"
        },
        "collapsed": true,
        "id": "H0Ma23u56KvB",
        "outputId": "e32f4850-83fb-4b4d-8748-bf86fd70c972"
      },
      "execution_count": 12,
      "outputs": [
        {
          "output_type": "execute_result",
          "data": {
            "text/plain": [
              "Counter({'artificial': 1,\n",
              "         'intelligence': 2,\n",
              "         'ai': 4,\n",
              "         'machine': 1,\n",
              "         'learning': 1,\n",
              "         'ml': 5,\n",
              "         'transforming': 1,\n",
              "         'way': 1,\n",
              "         'interact': 1,\n",
              "         'technology': 1,\n",
              "         'refers': 1,\n",
              "         'broad': 1,\n",
              "         'field': 1,\n",
              "         'creating': 1,\n",
              "         'systems': 1,\n",
              "         'perform': 1,\n",
              "         'tasks': 1,\n",
              "         'requiring': 1,\n",
              "         'human': 1,\n",
              "         'like': 2,\n",
              "         'reasoning': 1,\n",
              "         'problem': 1,\n",
              "         'solving': 1,\n",
              "         'perception': 1,\n",
              "         'subset': 1,\n",
              "         'focuses': 1,\n",
              "         'enabling': 1,\n",
              "         'machines': 1,\n",
              "         'learn': 1,\n",
              "         'data': 1,\n",
              "         'explicit': 1,\n",
              "         'programming': 1,\n",
              "         'training': 1,\n",
              "         'algorithms': 1,\n",
              "         'vast': 1,\n",
              "         'datasets': 1,\n",
              "         'models': 1,\n",
              "         'identify': 1,\n",
              "         'patterns': 1,\n",
              "         'predictions': 1,\n",
              "         'improve': 1,\n",
              "         'time': 1,\n",
              "         'powering': 1,\n",
              "         'virtual': 1,\n",
              "         'assistants': 1,\n",
              "         'siri': 1,\n",
              "         'driving': 1,\n",
              "         'advancements': 1,\n",
              "         'healthcare': 1,\n",
              "         'diagnostics': 1,\n",
              "         'revolutionizing': 1,\n",
              "         'industries': 1,\n",
              "         'transformers': 1,\n",
              "         'type': 1,\n",
              "         'architecture': 1,\n",
              "         'accelerated': 1,\n",
              "         'progress': 1,\n",
              "         'particularly': 1,\n",
              "         'natural': 1,\n",
              "         'language': 1,\n",
              "         'processing': 1,\n",
              "         'image': 1,\n",
              "         'recognition': 1,\n",
              "         'showcasing': 1,\n",
              "         'potential': 1,\n",
              "         'technologies': 1,\n",
              "         'shape': 1,\n",
              "         'future': 1})"
            ]
          },
          "metadata": {},
          "execution_count": 12
        }
      ]
    },
    {
      "cell_type": "code",
      "source": [
        "#pos approach\n",
        "word_freq1=Counter(tokens1)\n",
        "word_freq1"
      ],
      "metadata": {
        "collapsed": true,
        "colab": {
          "base_uri": "https://localhost:8080/"
        },
        "id": "52GHoc0Q-CLR",
        "outputId": "ad211100-50cf-4fbd-fc0b-acea381da4ad"
      },
      "execution_count": 13,
      "outputs": [
        {
          "output_type": "execute_result",
          "data": {
            "text/plain": [
              "Counter({'Artificial': 1,\n",
              "         'Intelligence': 1,\n",
              "         'AI': 4,\n",
              "         'Machine': 1,\n",
              "         'Learning': 1,\n",
              "         'ML': 5,\n",
              "         'transforming': 1,\n",
              "         'way': 1,\n",
              "         'interact': 1,\n",
              "         'technology': 1,\n",
              "         'refers': 1,\n",
              "         'broad': 1,\n",
              "         'field': 1,\n",
              "         'creating': 1,\n",
              "         'systems': 1,\n",
              "         'perform': 1,\n",
              "         'tasks': 1,\n",
              "         'requiring': 1,\n",
              "         'human': 1,\n",
              "         'like': 1,\n",
              "         'intelligence': 1,\n",
              "         'reasoning': 1,\n",
              "         'problem': 1,\n",
              "         'solving': 1,\n",
              "         'perception': 1,\n",
              "         'subset': 1,\n",
              "         'focuses': 1,\n",
              "         'enabling': 1,\n",
              "         'machines': 1,\n",
              "         'learn': 1,\n",
              "         'data': 1,\n",
              "         'explicit': 1,\n",
              "         'programming': 1,\n",
              "         'training': 1,\n",
              "         'algorithms': 1,\n",
              "         'vast': 1,\n",
              "         'datasets': 1,\n",
              "         'models': 1,\n",
              "         'identify': 1,\n",
              "         'patterns': 1,\n",
              "         'predictions': 1,\n",
              "         'improve': 1,\n",
              "         'time': 1,\n",
              "         'powering': 1,\n",
              "         'virtual': 1,\n",
              "         'assistants': 1,\n",
              "         'Siri': 1,\n",
              "         'driving': 1,\n",
              "         'advancements': 1,\n",
              "         'healthcare': 1,\n",
              "         'diagnostics': 1,\n",
              "         'revolutionizing': 1,\n",
              "         'industries': 1,\n",
              "         'Transformers': 1,\n",
              "         'type': 1,\n",
              "         'architecture': 1,\n",
              "         'accelerated': 1,\n",
              "         'progress': 1,\n",
              "         'natural': 1,\n",
              "         'language': 1,\n",
              "         'processing': 1,\n",
              "         'image': 1,\n",
              "         'recognition': 1,\n",
              "         'showcasing': 1,\n",
              "         'potential': 1,\n",
              "         'technologies': 1,\n",
              "         'shape': 1,\n",
              "         'future': 1})"
            ]
          },
          "metadata": {},
          "execution_count": 13
        }
      ]
    },
    {
      "cell_type": "code",
      "source": [
        "max_freq= max(word_freq.values())\n",
        "max_freq"
      ],
      "metadata": {
        "colab": {
          "base_uri": "https://localhost:8080/"
        },
        "id": "Oia7qmEb-LSn",
        "outputId": "0cdc8ffc-ff03-4328-8bda-2190357e3b22"
      },
      "execution_count": 14,
      "outputs": [
        {
          "output_type": "execute_result",
          "data": {
            "text/plain": [
              "5"
            ]
          },
          "metadata": {},
          "execution_count": 14
        }
      ]
    },
    {
      "cell_type": "code",
      "source": [
        "#pos approach\n",
        "max_freq1= max(word_freq1.values())\n",
        "max_freq1"
      ],
      "metadata": {
        "colab": {
          "base_uri": "https://localhost:8080/"
        },
        "id": "ZaYXKuFT-iLg",
        "outputId": "c88df443-0cc0-418f-b1de-7d525d4a06d8"
      },
      "execution_count": 15,
      "outputs": [
        {
          "output_type": "execute_result",
          "data": {
            "text/plain": [
              "5"
            ]
          },
          "metadata": {},
          "execution_count": 15
        }
      ]
    },
    {
      "cell_type": "markdown",
      "source": [
        "Normalizing the values"
      ],
      "metadata": {
        "id": "HFetHPu7-31X"
      }
    },
    {
      "cell_type": "code",
      "source": [
        "for word in word_freq.keys():\n",
        "  word_freq[word] = word_freq[word] / max_freq\n",
        "\n",
        "word_freq"
      ],
      "metadata": {
        "colab": {
          "base_uri": "https://localhost:8080/"
        },
        "collapsed": true,
        "id": "8I1BGltE--LJ",
        "outputId": "acae8bdb-f0b5-4e4e-eb2e-02d054f6744f"
      },
      "execution_count": 16,
      "outputs": [
        {
          "output_type": "execute_result",
          "data": {
            "text/plain": [
              "Counter({'artificial': 0.2,\n",
              "         'intelligence': 0.4,\n",
              "         'ai': 0.8,\n",
              "         'machine': 0.2,\n",
              "         'learning': 0.2,\n",
              "         'ml': 1.0,\n",
              "         'transforming': 0.2,\n",
              "         'way': 0.2,\n",
              "         'interact': 0.2,\n",
              "         'technology': 0.2,\n",
              "         'refers': 0.2,\n",
              "         'broad': 0.2,\n",
              "         'field': 0.2,\n",
              "         'creating': 0.2,\n",
              "         'systems': 0.2,\n",
              "         'perform': 0.2,\n",
              "         'tasks': 0.2,\n",
              "         'requiring': 0.2,\n",
              "         'human': 0.2,\n",
              "         'like': 0.4,\n",
              "         'reasoning': 0.2,\n",
              "         'problem': 0.2,\n",
              "         'solving': 0.2,\n",
              "         'perception': 0.2,\n",
              "         'subset': 0.2,\n",
              "         'focuses': 0.2,\n",
              "         'enabling': 0.2,\n",
              "         'machines': 0.2,\n",
              "         'learn': 0.2,\n",
              "         'data': 0.2,\n",
              "         'explicit': 0.2,\n",
              "         'programming': 0.2,\n",
              "         'training': 0.2,\n",
              "         'algorithms': 0.2,\n",
              "         'vast': 0.2,\n",
              "         'datasets': 0.2,\n",
              "         'models': 0.2,\n",
              "         'identify': 0.2,\n",
              "         'patterns': 0.2,\n",
              "         'predictions': 0.2,\n",
              "         'improve': 0.2,\n",
              "         'time': 0.2,\n",
              "         'powering': 0.2,\n",
              "         'virtual': 0.2,\n",
              "         'assistants': 0.2,\n",
              "         'siri': 0.2,\n",
              "         'driving': 0.2,\n",
              "         'advancements': 0.2,\n",
              "         'healthcare': 0.2,\n",
              "         'diagnostics': 0.2,\n",
              "         'revolutionizing': 0.2,\n",
              "         'industries': 0.2,\n",
              "         'transformers': 0.2,\n",
              "         'type': 0.2,\n",
              "         'architecture': 0.2,\n",
              "         'accelerated': 0.2,\n",
              "         'progress': 0.2,\n",
              "         'particularly': 0.2,\n",
              "         'natural': 0.2,\n",
              "         'language': 0.2,\n",
              "         'processing': 0.2,\n",
              "         'image': 0.2,\n",
              "         'recognition': 0.2,\n",
              "         'showcasing': 0.2,\n",
              "         'potential': 0.2,\n",
              "         'technologies': 0.2,\n",
              "         'shape': 0.2,\n",
              "         'future': 0.2})"
            ]
          },
          "metadata": {},
          "execution_count": 16
        }
      ]
    },
    {
      "cell_type": "code",
      "source": [
        "#pos approach\n",
        "\n",
        "for word in word_freq1.keys():\n",
        "  word_freq1[word] = word_freq1[word] / max_freq1\n",
        "\n",
        "word_freq1"
      ],
      "metadata": {
        "colab": {
          "base_uri": "https://localhost:8080/"
        },
        "collapsed": true,
        "id": "qMV8jB_R_sFQ",
        "outputId": "989c947d-83fe-42e5-f76c-946cb99b22a3"
      },
      "execution_count": 17,
      "outputs": [
        {
          "output_type": "execute_result",
          "data": {
            "text/plain": [
              "Counter({'Artificial': 0.2,\n",
              "         'Intelligence': 0.2,\n",
              "         'AI': 0.8,\n",
              "         'Machine': 0.2,\n",
              "         'Learning': 0.2,\n",
              "         'ML': 1.0,\n",
              "         'transforming': 0.2,\n",
              "         'way': 0.2,\n",
              "         'interact': 0.2,\n",
              "         'technology': 0.2,\n",
              "         'refers': 0.2,\n",
              "         'broad': 0.2,\n",
              "         'field': 0.2,\n",
              "         'creating': 0.2,\n",
              "         'systems': 0.2,\n",
              "         'perform': 0.2,\n",
              "         'tasks': 0.2,\n",
              "         'requiring': 0.2,\n",
              "         'human': 0.2,\n",
              "         'like': 0.2,\n",
              "         'intelligence': 0.2,\n",
              "         'reasoning': 0.2,\n",
              "         'problem': 0.2,\n",
              "         'solving': 0.2,\n",
              "         'perception': 0.2,\n",
              "         'subset': 0.2,\n",
              "         'focuses': 0.2,\n",
              "         'enabling': 0.2,\n",
              "         'machines': 0.2,\n",
              "         'learn': 0.2,\n",
              "         'data': 0.2,\n",
              "         'explicit': 0.2,\n",
              "         'programming': 0.2,\n",
              "         'training': 0.2,\n",
              "         'algorithms': 0.2,\n",
              "         'vast': 0.2,\n",
              "         'datasets': 0.2,\n",
              "         'models': 0.2,\n",
              "         'identify': 0.2,\n",
              "         'patterns': 0.2,\n",
              "         'predictions': 0.2,\n",
              "         'improve': 0.2,\n",
              "         'time': 0.2,\n",
              "         'powering': 0.2,\n",
              "         'virtual': 0.2,\n",
              "         'assistants': 0.2,\n",
              "         'Siri': 0.2,\n",
              "         'driving': 0.2,\n",
              "         'advancements': 0.2,\n",
              "         'healthcare': 0.2,\n",
              "         'diagnostics': 0.2,\n",
              "         'revolutionizing': 0.2,\n",
              "         'industries': 0.2,\n",
              "         'Transformers': 0.2,\n",
              "         'type': 0.2,\n",
              "         'architecture': 0.2,\n",
              "         'accelerated': 0.2,\n",
              "         'progress': 0.2,\n",
              "         'natural': 0.2,\n",
              "         'language': 0.2,\n",
              "         'processing': 0.2,\n",
              "         'image': 0.2,\n",
              "         'recognition': 0.2,\n",
              "         'showcasing': 0.2,\n",
              "         'potential': 0.2,\n",
              "         'technologies': 0.2,\n",
              "         'shape': 0.2,\n",
              "         'future': 0.2})"
            ]
          },
          "metadata": {},
          "execution_count": 17
        }
      ]
    },
    {
      "cell_type": "markdown",
      "source": [
        "Sentence Tokenizations"
      ],
      "metadata": {
        "id": "B7sX2RAyB0ql"
      }
    },
    {
      "cell_type": "code",
      "source": [
        "sent_token = [sent.text for sent in doc.sents]\n",
        "sent_token"
      ],
      "metadata": {
        "colab": {
          "base_uri": "https://localhost:8080/"
        },
        "collapsed": true,
        "id": "457rY8h4Btni",
        "outputId": "8e016237-b91b-4ebb-d593-2327f017efb7"
      },
      "execution_count": 18,
      "outputs": [
        {
          "output_type": "execute_result",
          "data": {
            "text/plain": [
              "['\\nArtificial Intelligence (AI) and Machine Learning (ML) are transforming the way we interact with technology.',\n",
              " 'AI refers to the broad field of creating systems that can perform tasks requiring human-like intelligence, such as reasoning, problem-solving, and perception.',\n",
              " 'ML, a subset of AI, focuses on enabling machines to learn from data without explicit programming.',\n",
              " 'By training algorithms on vast datasets, ML models can identify patterns, make predictions, and improve over time.',\n",
              " 'From powering virtual assistants like Siri to driving advancements in healthcare diagnostics, AI and ML are revolutionizing industries.',\n",
              " 'Transformers, a type of ML architecture, have further accelerated progress, particularly in natural language processing and image recognition, showcasing the potential of these technologies to shape the future.\\n']"
            ]
          },
          "metadata": {},
          "execution_count": 18
        }
      ]
    },
    {
      "cell_type": "markdown",
      "source": [
        "writing logic to calculate sentences score based on word frequencies"
      ],
      "metadata": {
        "id": "a4YPsP_4DioM"
      }
    },
    {
      "cell_type": "code",
      "source": [
        "sent_score= {}\n",
        "for sent in sent_token:\n",
        "  for word in sent.split():\n",
        "    if word.lower() in word_freq.keys():\n",
        "      if sent not in sent_score.keys():\n",
        "        sent_score[sent] = word_freq[word.lower()]\n",
        "      else:\n",
        "        sent_score[sent] += word_freq[word]\n",
        "    print(word)\n",
        ""
      ],
      "metadata": {
        "colab": {
          "base_uri": "https://localhost:8080/"
        },
        "collapsed": true,
        "id": "962QOcGiCKG9",
        "outputId": "d821f2a2-80c1-4642-e5a6-aba489c35f6d"
      },
      "execution_count": 19,
      "outputs": [
        {
          "output_type": "stream",
          "name": "stdout",
          "text": [
            "Artificial\n",
            "Intelligence\n",
            "(AI)\n",
            "and\n",
            "Machine\n",
            "Learning\n",
            "(ML)\n",
            "are\n",
            "transforming\n",
            "the\n",
            "way\n",
            "we\n",
            "interact\n",
            "with\n",
            "technology.\n",
            "AI\n",
            "refers\n",
            "to\n",
            "the\n",
            "broad\n",
            "field\n",
            "of\n",
            "creating\n",
            "systems\n",
            "that\n",
            "can\n",
            "perform\n",
            "tasks\n",
            "requiring\n",
            "human-like\n",
            "intelligence,\n",
            "such\n",
            "as\n",
            "reasoning,\n",
            "problem-solving,\n",
            "and\n",
            "perception.\n",
            "ML,\n",
            "a\n",
            "subset\n",
            "of\n",
            "AI,\n",
            "focuses\n",
            "on\n",
            "enabling\n",
            "machines\n",
            "to\n",
            "learn\n",
            "from\n",
            "data\n",
            "without\n",
            "explicit\n",
            "programming.\n",
            "By\n",
            "training\n",
            "algorithms\n",
            "on\n",
            "vast\n",
            "datasets,\n",
            "ML\n",
            "models\n",
            "can\n",
            "identify\n",
            "patterns,\n",
            "make\n",
            "predictions,\n",
            "and\n",
            "improve\n",
            "over\n",
            "time.\n",
            "From\n",
            "powering\n",
            "virtual\n",
            "assistants\n",
            "like\n",
            "Siri\n",
            "to\n",
            "driving\n",
            "advancements\n",
            "in\n",
            "healthcare\n",
            "diagnostics,\n",
            "AI\n",
            "and\n",
            "ML\n",
            "are\n",
            "revolutionizing\n",
            "industries.\n",
            "Transformers,\n",
            "a\n",
            "type\n",
            "of\n",
            "ML\n",
            "architecture,\n",
            "have\n",
            "further\n",
            "accelerated\n",
            "progress,\n",
            "particularly\n",
            "in\n",
            "natural\n",
            "language\n",
            "processing\n",
            "and\n",
            "image\n",
            "recognition,\n",
            "showcasing\n",
            "the\n",
            "potential\n",
            "of\n",
            "these\n",
            "technologies\n",
            "to\n",
            "shape\n",
            "the\n",
            "future.\n"
          ]
        }
      ]
    },
    {
      "cell_type": "code",
      "source": [
        "sent_score"
      ],
      "metadata": {
        "colab": {
          "base_uri": "https://localhost:8080/"
        },
        "collapsed": true,
        "id": "qDCdlhBDGPhQ",
        "outputId": "4aa6a5cb-a978-4228-d05f-e52ba4aa401c"
      },
      "execution_count": 20,
      "outputs": [
        {
          "output_type": "execute_result",
          "data": {
            "text/plain": [
              "{'\\nArtificial Intelligence (AI) and Machine Learning (ML) are transforming the way we interact with technology.': 0.8,\n",
              " 'AI refers to the broad field of creating systems that can perform tasks requiring human-like intelligence, such as reasoning, problem-solving, and perception.': 2.4,\n",
              " 'ML, a subset of AI, focuses on enabling machines to learn from data without explicit programming.': 1.4,\n",
              " 'By training algorithms on vast datasets, ML models can identify patterns, make predictions, and improve over time.': 1.2,\n",
              " 'From powering virtual assistants like Siri to driving advancements in healthcare diagnostics, AI and ML are revolutionizing industries.': 1.7999999999999998,\n",
              " 'Transformers, a type of ML architecture, have further accelerated progress, particularly in natural language processing and image recognition, showcasing the potential of these technologies to shape the future.\\n': 2.1999999999999997}"
            ]
          },
          "metadata": {},
          "execution_count": 20
        }
      ]
    },
    {
      "cell_type": "markdown",
      "source": [
        "Creating a dataframe in pandas"
      ],
      "metadata": {
        "id": "YvRooHz6GUpJ"
      }
    },
    {
      "cell_type": "code",
      "source": [
        "df =pd.DataFrame(sent_score.items(),columns=['sentence','score'])\n",
        "df"
      ],
      "metadata": {
        "colab": {
          "base_uri": "https://localhost:8080/",
          "height": 238
        },
        "id": "GybR718WGTXE",
        "outputId": "87edf495-398c-4eef-ebb3-73f1b7250ba4"
      },
      "execution_count": 21,
      "outputs": [
        {
          "output_type": "execute_result",
          "data": {
            "text/plain": [
              "                                            sentence  score\n",
              "0  \\nArtificial Intelligence (AI) and Machine Lea...    0.8\n",
              "1  AI refers to the broad field of creating syste...    2.4\n",
              "2  ML, a subset of AI, focuses on enabling machin...    1.4\n",
              "3  By training algorithms on vast datasets, ML mo...    1.2\n",
              "4  From powering virtual assistants like Siri to ...    1.8\n",
              "5  Transformers, a type of ML architecture, have ...    2.2"
            ],
            "text/html": [
              "\n",
              "  <div id=\"df-1a2b2430-52db-471f-9459-47f8f1316667\" class=\"colab-df-container\">\n",
              "    <div>\n",
              "<style scoped>\n",
              "    .dataframe tbody tr th:only-of-type {\n",
              "        vertical-align: middle;\n",
              "    }\n",
              "\n",
              "    .dataframe tbody tr th {\n",
              "        vertical-align: top;\n",
              "    }\n",
              "\n",
              "    .dataframe thead th {\n",
              "        text-align: right;\n",
              "    }\n",
              "</style>\n",
              "<table border=\"1\" class=\"dataframe\">\n",
              "  <thead>\n",
              "    <tr style=\"text-align: right;\">\n",
              "      <th></th>\n",
              "      <th>sentence</th>\n",
              "      <th>score</th>\n",
              "    </tr>\n",
              "  </thead>\n",
              "  <tbody>\n",
              "    <tr>\n",
              "      <th>0</th>\n",
              "      <td>\\nArtificial Intelligence (AI) and Machine Lea...</td>\n",
              "      <td>0.8</td>\n",
              "    </tr>\n",
              "    <tr>\n",
              "      <th>1</th>\n",
              "      <td>AI refers to the broad field of creating syste...</td>\n",
              "      <td>2.4</td>\n",
              "    </tr>\n",
              "    <tr>\n",
              "      <th>2</th>\n",
              "      <td>ML, a subset of AI, focuses on enabling machin...</td>\n",
              "      <td>1.4</td>\n",
              "    </tr>\n",
              "    <tr>\n",
              "      <th>3</th>\n",
              "      <td>By training algorithms on vast datasets, ML mo...</td>\n",
              "      <td>1.2</td>\n",
              "    </tr>\n",
              "    <tr>\n",
              "      <th>4</th>\n",
              "      <td>From powering virtual assistants like Siri to ...</td>\n",
              "      <td>1.8</td>\n",
              "    </tr>\n",
              "    <tr>\n",
              "      <th>5</th>\n",
              "      <td>Transformers, a type of ML architecture, have ...</td>\n",
              "      <td>2.2</td>\n",
              "    </tr>\n",
              "  </tbody>\n",
              "</table>\n",
              "</div>\n",
              "    <div class=\"colab-df-buttons\">\n",
              "\n",
              "  <div class=\"colab-df-container\">\n",
              "    <button class=\"colab-df-convert\" onclick=\"convertToInteractive('df-1a2b2430-52db-471f-9459-47f8f1316667')\"\n",
              "            title=\"Convert this dataframe to an interactive table.\"\n",
              "            style=\"display:none;\">\n",
              "\n",
              "  <svg xmlns=\"http://www.w3.org/2000/svg\" height=\"24px\" viewBox=\"0 -960 960 960\">\n",
              "    <path d=\"M120-120v-720h720v720H120Zm60-500h600v-160H180v160Zm220 220h160v-160H400v160Zm0 220h160v-160H400v160ZM180-400h160v-160H180v160Zm440 0h160v-160H620v160ZM180-180h160v-160H180v160Zm440 0h160v-160H620v160Z\"/>\n",
              "  </svg>\n",
              "    </button>\n",
              "\n",
              "  <style>\n",
              "    .colab-df-container {\n",
              "      display:flex;\n",
              "      gap: 12px;\n",
              "    }\n",
              "\n",
              "    .colab-df-convert {\n",
              "      background-color: #E8F0FE;\n",
              "      border: none;\n",
              "      border-radius: 50%;\n",
              "      cursor: pointer;\n",
              "      display: none;\n",
              "      fill: #1967D2;\n",
              "      height: 32px;\n",
              "      padding: 0 0 0 0;\n",
              "      width: 32px;\n",
              "    }\n",
              "\n",
              "    .colab-df-convert:hover {\n",
              "      background-color: #E2EBFA;\n",
              "      box-shadow: 0px 1px 2px rgba(60, 64, 67, 0.3), 0px 1px 3px 1px rgba(60, 64, 67, 0.15);\n",
              "      fill: #174EA6;\n",
              "    }\n",
              "\n",
              "    .colab-df-buttons div {\n",
              "      margin-bottom: 4px;\n",
              "    }\n",
              "\n",
              "    [theme=dark] .colab-df-convert {\n",
              "      background-color: #3B4455;\n",
              "      fill: #D2E3FC;\n",
              "    }\n",
              "\n",
              "    [theme=dark] .colab-df-convert:hover {\n",
              "      background-color: #434B5C;\n",
              "      box-shadow: 0px 1px 3px 1px rgba(0, 0, 0, 0.15);\n",
              "      filter: drop-shadow(0px 1px 2px rgba(0, 0, 0, 0.3));\n",
              "      fill: #FFFFFF;\n",
              "    }\n",
              "  </style>\n",
              "\n",
              "    <script>\n",
              "      const buttonEl =\n",
              "        document.querySelector('#df-1a2b2430-52db-471f-9459-47f8f1316667 button.colab-df-convert');\n",
              "      buttonEl.style.display =\n",
              "        google.colab.kernel.accessAllowed ? 'block' : 'none';\n",
              "\n",
              "      async function convertToInteractive(key) {\n",
              "        const element = document.querySelector('#df-1a2b2430-52db-471f-9459-47f8f1316667');\n",
              "        const dataTable =\n",
              "          await google.colab.kernel.invokeFunction('convertToInteractive',\n",
              "                                                    [key], {});\n",
              "        if (!dataTable) return;\n",
              "\n",
              "        const docLinkHtml = 'Like what you see? Visit the ' +\n",
              "          '<a target=\"_blank\" href=https://colab.research.google.com/notebooks/data_table.ipynb>data table notebook</a>'\n",
              "          + ' to learn more about interactive tables.';\n",
              "        element.innerHTML = '';\n",
              "        dataTable['output_type'] = 'display_data';\n",
              "        await google.colab.output.renderOutput(dataTable, element);\n",
              "        const docLink = document.createElement('div');\n",
              "        docLink.innerHTML = docLinkHtml;\n",
              "        element.appendChild(docLink);\n",
              "      }\n",
              "    </script>\n",
              "  </div>\n",
              "\n",
              "\n",
              "<div id=\"df-4157b300-4730-4ec7-8737-ab97aa542e4b\">\n",
              "  <button class=\"colab-df-quickchart\" onclick=\"quickchart('df-4157b300-4730-4ec7-8737-ab97aa542e4b')\"\n",
              "            title=\"Suggest charts\"\n",
              "            style=\"display:none;\">\n",
              "\n",
              "<svg xmlns=\"http://www.w3.org/2000/svg\" height=\"24px\"viewBox=\"0 0 24 24\"\n",
              "     width=\"24px\">\n",
              "    <g>\n",
              "        <path d=\"M19 3H5c-1.1 0-2 .9-2 2v14c0 1.1.9 2 2 2h14c1.1 0 2-.9 2-2V5c0-1.1-.9-2-2-2zM9 17H7v-7h2v7zm4 0h-2V7h2v10zm4 0h-2v-4h2v4z\"/>\n",
              "    </g>\n",
              "</svg>\n",
              "  </button>\n",
              "\n",
              "<style>\n",
              "  .colab-df-quickchart {\n",
              "      --bg-color: #E8F0FE;\n",
              "      --fill-color: #1967D2;\n",
              "      --hover-bg-color: #E2EBFA;\n",
              "      --hover-fill-color: #174EA6;\n",
              "      --disabled-fill-color: #AAA;\n",
              "      --disabled-bg-color: #DDD;\n",
              "  }\n",
              "\n",
              "  [theme=dark] .colab-df-quickchart {\n",
              "      --bg-color: #3B4455;\n",
              "      --fill-color: #D2E3FC;\n",
              "      --hover-bg-color: #434B5C;\n",
              "      --hover-fill-color: #FFFFFF;\n",
              "      --disabled-bg-color: #3B4455;\n",
              "      --disabled-fill-color: #666;\n",
              "  }\n",
              "\n",
              "  .colab-df-quickchart {\n",
              "    background-color: var(--bg-color);\n",
              "    border: none;\n",
              "    border-radius: 50%;\n",
              "    cursor: pointer;\n",
              "    display: none;\n",
              "    fill: var(--fill-color);\n",
              "    height: 32px;\n",
              "    padding: 0;\n",
              "    width: 32px;\n",
              "  }\n",
              "\n",
              "  .colab-df-quickchart:hover {\n",
              "    background-color: var(--hover-bg-color);\n",
              "    box-shadow: 0 1px 2px rgba(60, 64, 67, 0.3), 0 1px 3px 1px rgba(60, 64, 67, 0.15);\n",
              "    fill: var(--button-hover-fill-color);\n",
              "  }\n",
              "\n",
              "  .colab-df-quickchart-complete:disabled,\n",
              "  .colab-df-quickchart-complete:disabled:hover {\n",
              "    background-color: var(--disabled-bg-color);\n",
              "    fill: var(--disabled-fill-color);\n",
              "    box-shadow: none;\n",
              "  }\n",
              "\n",
              "  .colab-df-spinner {\n",
              "    border: 2px solid var(--fill-color);\n",
              "    border-color: transparent;\n",
              "    border-bottom-color: var(--fill-color);\n",
              "    animation:\n",
              "      spin 1s steps(1) infinite;\n",
              "  }\n",
              "\n",
              "  @keyframes spin {\n",
              "    0% {\n",
              "      border-color: transparent;\n",
              "      border-bottom-color: var(--fill-color);\n",
              "      border-left-color: var(--fill-color);\n",
              "    }\n",
              "    20% {\n",
              "      border-color: transparent;\n",
              "      border-left-color: var(--fill-color);\n",
              "      border-top-color: var(--fill-color);\n",
              "    }\n",
              "    30% {\n",
              "      border-color: transparent;\n",
              "      border-left-color: var(--fill-color);\n",
              "      border-top-color: var(--fill-color);\n",
              "      border-right-color: var(--fill-color);\n",
              "    }\n",
              "    40% {\n",
              "      border-color: transparent;\n",
              "      border-right-color: var(--fill-color);\n",
              "      border-top-color: var(--fill-color);\n",
              "    }\n",
              "    60% {\n",
              "      border-color: transparent;\n",
              "      border-right-color: var(--fill-color);\n",
              "    }\n",
              "    80% {\n",
              "      border-color: transparent;\n",
              "      border-right-color: var(--fill-color);\n",
              "      border-bottom-color: var(--fill-color);\n",
              "    }\n",
              "    90% {\n",
              "      border-color: transparent;\n",
              "      border-bottom-color: var(--fill-color);\n",
              "    }\n",
              "  }\n",
              "</style>\n",
              "\n",
              "  <script>\n",
              "    async function quickchart(key) {\n",
              "      const quickchartButtonEl =\n",
              "        document.querySelector('#' + key + ' button');\n",
              "      quickchartButtonEl.disabled = true;  // To prevent multiple clicks.\n",
              "      quickchartButtonEl.classList.add('colab-df-spinner');\n",
              "      try {\n",
              "        const charts = await google.colab.kernel.invokeFunction(\n",
              "            'suggestCharts', [key], {});\n",
              "      } catch (error) {\n",
              "        console.error('Error during call to suggestCharts:', error);\n",
              "      }\n",
              "      quickchartButtonEl.classList.remove('colab-df-spinner');\n",
              "      quickchartButtonEl.classList.add('colab-df-quickchart-complete');\n",
              "    }\n",
              "    (() => {\n",
              "      let quickchartButtonEl =\n",
              "        document.querySelector('#df-4157b300-4730-4ec7-8737-ab97aa542e4b button');\n",
              "      quickchartButtonEl.style.display =\n",
              "        google.colab.kernel.accessAllowed ? 'block' : 'none';\n",
              "    })();\n",
              "  </script>\n",
              "</div>\n",
              "\n",
              "  <div id=\"id_e4dd2576-7e7b-4a3d-8387-89761db9bea2\">\n",
              "    <style>\n",
              "      .colab-df-generate {\n",
              "        background-color: #E8F0FE;\n",
              "        border: none;\n",
              "        border-radius: 50%;\n",
              "        cursor: pointer;\n",
              "        display: none;\n",
              "        fill: #1967D2;\n",
              "        height: 32px;\n",
              "        padding: 0 0 0 0;\n",
              "        width: 32px;\n",
              "      }\n",
              "\n",
              "      .colab-df-generate:hover {\n",
              "        background-color: #E2EBFA;\n",
              "        box-shadow: 0px 1px 2px rgba(60, 64, 67, 0.3), 0px 1px 3px 1px rgba(60, 64, 67, 0.15);\n",
              "        fill: #174EA6;\n",
              "      }\n",
              "\n",
              "      [theme=dark] .colab-df-generate {\n",
              "        background-color: #3B4455;\n",
              "        fill: #D2E3FC;\n",
              "      }\n",
              "\n",
              "      [theme=dark] .colab-df-generate:hover {\n",
              "        background-color: #434B5C;\n",
              "        box-shadow: 0px 1px 3px 1px rgba(0, 0, 0, 0.15);\n",
              "        filter: drop-shadow(0px 1px 2px rgba(0, 0, 0, 0.3));\n",
              "        fill: #FFFFFF;\n",
              "      }\n",
              "    </style>\n",
              "    <button class=\"colab-df-generate\" onclick=\"generateWithVariable('df')\"\n",
              "            title=\"Generate code using this dataframe.\"\n",
              "            style=\"display:none;\">\n",
              "\n",
              "  <svg xmlns=\"http://www.w3.org/2000/svg\" height=\"24px\"viewBox=\"0 0 24 24\"\n",
              "       width=\"24px\">\n",
              "    <path d=\"M7,19H8.4L18.45,9,17,7.55,7,17.6ZM5,21V16.75L18.45,3.32a2,2,0,0,1,2.83,0l1.4,1.43a1.91,1.91,0,0,1,.58,1.4,1.91,1.91,0,0,1-.58,1.4L9.25,21ZM18.45,9,17,7.55Zm-12,3A5.31,5.31,0,0,0,4.9,8.1,5.31,5.31,0,0,0,1,6.5,5.31,5.31,0,0,0,4.9,4.9,5.31,5.31,0,0,0,6.5,1,5.31,5.31,0,0,0,8.1,4.9,5.31,5.31,0,0,0,12,6.5,5.46,5.46,0,0,0,6.5,12Z\"/>\n",
              "  </svg>\n",
              "    </button>\n",
              "    <script>\n",
              "      (() => {\n",
              "      const buttonEl =\n",
              "        document.querySelector('#id_e4dd2576-7e7b-4a3d-8387-89761db9bea2 button.colab-df-generate');\n",
              "      buttonEl.style.display =\n",
              "        google.colab.kernel.accessAllowed ? 'block' : 'none';\n",
              "\n",
              "      buttonEl.onclick = () => {\n",
              "        google.colab.notebook.generateWithVariable('df');\n",
              "      }\n",
              "      })();\n",
              "    </script>\n",
              "  </div>\n",
              "\n",
              "    </div>\n",
              "  </div>\n"
            ],
            "application/vnd.google.colaboratory.intrinsic+json": {
              "type": "dataframe",
              "variable_name": "df",
              "summary": "{\n  \"name\": \"df\",\n  \"rows\": 6,\n  \"fields\": [\n    {\n      \"column\": \"sentence\",\n      \"properties\": {\n        \"dtype\": \"string\",\n        \"num_unique_values\": 6,\n        \"samples\": [\n          \"\\nArtificial Intelligence (AI) and Machine Learning (ML) are transforming the way we interact with technology.\",\n          \"AI refers to the broad field of creating systems that can perform tasks requiring human-like intelligence, such as reasoning, problem-solving, and perception.\",\n          \"Transformers, a type of ML architecture, have further accelerated progress, particularly in natural language processing and image recognition, showcasing the potential of these technologies to shape the future.\\n\"\n        ],\n        \"semantic_type\": \"\",\n        \"description\": \"\"\n      }\n    },\n    {\n      \"column\": \"score\",\n      \"properties\": {\n        \"dtype\": \"number\",\n        \"std\": 0.6121002096606949,\n        \"min\": 0.8,\n        \"max\": 2.4,\n        \"num_unique_values\": 6,\n        \"samples\": [\n          0.8,\n          2.4,\n          2.1999999999999997\n        ],\n        \"semantic_type\": \"\",\n        \"description\": \"\"\n      }\n    }\n  ]\n}"
            }
          },
          "metadata": {},
          "execution_count": 21
        }
      ]
    },
    {
      "cell_type": "code",
      "source": [
        "#as we are doing extractive summarization , so we have to select top most scores"
      ],
      "metadata": {
        "id": "35xIdfFcHHUm"
      },
      "execution_count": 22,
      "outputs": []
    },
    {
      "cell_type": "code",
      "source": [
        "number_of_sentences = 3\n",
        "n= nlargest(number_of_sentences,sent_score,key =sent_score.get)\n",
        "# key =sent_score.get\n",
        "# use to extract the score from df to comapre the largest\n",
        "n"
      ],
      "metadata": {
        "colab": {
          "base_uri": "https://localhost:8080/"
        },
        "id": "VDEhQC0UHRgc",
        "outputId": "07aee21e-0442-418c-e135-04ddd1a3583e"
      },
      "execution_count": 23,
      "outputs": [
        {
          "output_type": "execute_result",
          "data": {
            "text/plain": [
              "['AI refers to the broad field of creating systems that can perform tasks requiring human-like intelligence, such as reasoning, problem-solving, and perception.',\n",
              " 'Transformers, a type of ML architecture, have further accelerated progress, particularly in natural language processing and image recognition, showcasing the potential of these technologies to shape the future.\\n',\n",
              " 'From powering virtual assistants like Siri to driving advancements in healthcare diagnostics, AI and ML are revolutionizing industries.']"
            ]
          },
          "metadata": {},
          "execution_count": 23
        }
      ]
    },
    {
      "cell_type": "code",
      "source": [
        "\" \" .join(n)"
      ],
      "metadata": {
        "colab": {
          "base_uri": "https://localhost:8080/",
          "height": 87
        },
        "id": "nsC8tJ9zIwkZ",
        "outputId": "c68de428-aa30-4bde-e3ee-611dfc910b9a"
      },
      "execution_count": 24,
      "outputs": [
        {
          "output_type": "execute_result",
          "data": {
            "text/plain": [
              "'AI refers to the broad field of creating systems that can perform tasks requiring human-like intelligence, such as reasoning, problem-solving, and perception. Transformers, a type of ML architecture, have further accelerated progress, particularly in natural language processing and image recognition, showcasing the potential of these technologies to shape the future.\\n From powering virtual assistants like Siri to driving advancements in healthcare diagnostics, AI and ML are revolutionizing industries.'"
            ],
            "application/vnd.google.colaboratory.intrinsic+json": {
              "type": "string"
            }
          },
          "metadata": {},
          "execution_count": 24
        }
      ]
    },
    {
      "cell_type": "markdown",
      "source": [
        "# End Of Extractive Text Summerrization"
      ],
      "metadata": {
        "id": "5IS-JMeDI-GR"
      }
    }
  ]
}